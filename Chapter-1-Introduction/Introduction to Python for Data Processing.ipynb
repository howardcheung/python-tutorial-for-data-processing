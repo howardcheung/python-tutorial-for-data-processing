{
 "cells": [
  {
   "cell_type": "markdown",
   "metadata": {},
   "source": [
    "# Example demonstration\n",
    "\n",
    "We are going to demonstrate the usefulness of Python and Pandas in this example"
   ]
  },
  {
   "cell_type": "markdown",
   "metadata": {},
   "source": [
    "First, let's import the example file"
   ]
  },
  {
   "cell_type": "code",
   "execution_count": 13,
   "metadata": {
    "collapsed": false
   },
   "outputs": [],
   "source": [
    "import pandas as pd\n",
    "\n",
    "df = pd.read_excel('./sample_data.xlsx')"
   ]
  },
  {
   "cell_type": "markdown",
   "metadata": {},
   "source": [
    "Let's check the imported data"
   ]
  },
  {
   "cell_type": "code",
   "execution_count": 14,
   "metadata": {
    "collapsed": false
   },
   "outputs": [
    {
     "data": {
      "text/html": [
       "<div>\n",
       "<table border=\"1\" class=\"dataframe\">\n",
       "  <thead>\n",
       "    <tr style=\"text-align: right;\">\n",
       "      <th></th>\n",
       "      <th>Time</th>\n",
       "      <th>Cooling Load</th>\n",
       "      <th>Temperature</th>\n",
       "    </tr>\n",
       "  </thead>\n",
       "  <tbody>\n",
       "    <tr>\n",
       "      <th>0</th>\n",
       "      <td>1/1/15 12:00:00 AM CST</td>\n",
       "      <td>0.802203</td>\n",
       "      <td>17.57697</td>\n",
       "    </tr>\n",
       "    <tr>\n",
       "      <th>1</th>\n",
       "      <td>1/1/15 12:30:00 AM CST</td>\n",
       "      <td>0.802203</td>\n",
       "      <td>17.57697</td>\n",
       "    </tr>\n",
       "    <tr>\n",
       "      <th>2</th>\n",
       "      <td>1/1/15 1:00:00 AM CST</td>\n",
       "      <td>1.895214</td>\n",
       "      <td>17.27978</td>\n",
       "    </tr>\n",
       "    <tr>\n",
       "      <th>3</th>\n",
       "      <td>1/1/15 1:30:00 AM CST</td>\n",
       "      <td>14.007580</td>\n",
       "      <td>17.27978</td>\n",
       "    </tr>\n",
       "    <tr>\n",
       "      <th>4</th>\n",
       "      <td>1/1/15 2:00:00 AM CST</td>\n",
       "      <td>1.014915</td>\n",
       "      <td>17.27978</td>\n",
       "    </tr>\n",
       "    <tr>\n",
       "      <th>5</th>\n",
       "      <td>1/1/15 2:30:00 AM CST</td>\n",
       "      <td>1.015470</td>\n",
       "      <td>16.98257</td>\n",
       "    </tr>\n",
       "    <tr>\n",
       "      <th>6</th>\n",
       "      <td>1/1/15 3:00:00 AM CST</td>\n",
       "      <td>1.647006</td>\n",
       "      <td>16.98257</td>\n",
       "    </tr>\n",
       "    <tr>\n",
       "      <th>7</th>\n",
       "      <td>1/1/15 3:30:00 AM CST</td>\n",
       "      <td>0.930945</td>\n",
       "      <td>16.98257</td>\n",
       "    </tr>\n",
       "    <tr>\n",
       "      <th>8</th>\n",
       "      <td>1/1/15 4:00:00 AM CST</td>\n",
       "      <td>0.786436</td>\n",
       "      <td>16.98257</td>\n",
       "    </tr>\n",
       "    <tr>\n",
       "      <th>9</th>\n",
       "      <td>1/1/15 4:30:00 AM CST</td>\n",
       "      <td>8.029107</td>\n",
       "      <td>16.98257</td>\n",
       "    </tr>\n",
       "    <tr>\n",
       "      <th>10</th>\n",
       "      <td>1/1/15 5:00:00 AM CST</td>\n",
       "      <td>0.828741</td>\n",
       "      <td>16.68523</td>\n",
       "    </tr>\n",
       "    <tr>\n",
       "      <th>11</th>\n",
       "      <td>1/1/15 5:30:00 AM CST</td>\n",
       "      <td>0.828008</td>\n",
       "      <td>16.68523</td>\n",
       "    </tr>\n",
       "    <tr>\n",
       "      <th>12</th>\n",
       "      <td>1/1/15 6:00:00 AM CST</td>\n",
       "      <td>0.830196</td>\n",
       "      <td>16.68523</td>\n",
       "    </tr>\n",
       "    <tr>\n",
       "      <th>13</th>\n",
       "      <td>1/1/15 6:30:00 AM CST</td>\n",
       "      <td>0.771979</td>\n",
       "      <td>16.68523</td>\n",
       "    </tr>\n",
       "    <tr>\n",
       "      <th>14</th>\n",
       "      <td>1/1/15 7:00:00 AM CST</td>\n",
       "      <td>0.781031</td>\n",
       "      <td>16.68523</td>\n",
       "    </tr>\n",
       "    <tr>\n",
       "      <th>15</th>\n",
       "      <td>1/1/15 7:30:00 AM CST</td>\n",
       "      <td>-138.163100</td>\n",
       "      <td>16.38815</td>\n",
       "    </tr>\n",
       "    <tr>\n",
       "      <th>16</th>\n",
       "      <td>1/1/15 8:00:00 AM CST</td>\n",
       "      <td>234.272000</td>\n",
       "      <td>16.38815</td>\n",
       "    </tr>\n",
       "    <tr>\n",
       "      <th>17</th>\n",
       "      <td>1/1/15 8:30:00 AM CST</td>\n",
       "      <td>1.422757</td>\n",
       "      <td>16.38815</td>\n",
       "    </tr>\n",
       "    <tr>\n",
       "      <th>18</th>\n",
       "      <td>1/1/15 9:00:00 AM CST</td>\n",
       "      <td>37.413010</td>\n",
       "      <td>16.68587</td>\n",
       "    </tr>\n",
       "    <tr>\n",
       "      <th>19</th>\n",
       "      <td>1/1/15 9:30:00 AM CST</td>\n",
       "      <td>-177.609500</td>\n",
       "      <td>16.98398</td>\n",
       "    </tr>\n",
       "    <tr>\n",
       "      <th>20</th>\n",
       "      <td>1/1/15 10:00:00 AM CST</td>\n",
       "      <td>212.855500</td>\n",
       "      <td>18.48843</td>\n",
       "    </tr>\n",
       "    <tr>\n",
       "      <th>21</th>\n",
       "      <td>1/1/15 10:30:00 AM CST</td>\n",
       "      <td>379.325800</td>\n",
       "      <td>19.99398</td>\n",
       "    </tr>\n",
       "    <tr>\n",
       "      <th>22</th>\n",
       "      <td>1/1/15 11:00:00 AM CST</td>\n",
       "      <td>164.910100</td>\n",
       "      <td>19.39741</td>\n",
       "    </tr>\n",
       "    <tr>\n",
       "      <th>23</th>\n",
       "      <td>1/1/15 11:30:00 AM CST</td>\n",
       "      <td>105.905700</td>\n",
       "      <td>19.09951</td>\n",
       "    </tr>\n",
       "    <tr>\n",
       "      <th>24</th>\n",
       "      <td>1/1/15 12:00:00 PM CST</td>\n",
       "      <td>-161.721900</td>\n",
       "      <td>18.80202</td>\n",
       "    </tr>\n",
       "    <tr>\n",
       "      <th>25</th>\n",
       "      <td>1/1/15 12:30:00 PM CST</td>\n",
       "      <td>378.861200</td>\n",
       "      <td>18.80202</td>\n",
       "    </tr>\n",
       "    <tr>\n",
       "      <th>26</th>\n",
       "      <td>1/1/15 1:00:00 PM CST</td>\n",
       "      <td>203.685800</td>\n",
       "      <td>19.09940</td>\n",
       "    </tr>\n",
       "    <tr>\n",
       "      <th>27</th>\n",
       "      <td>1/1/15 1:30:00 PM CST</td>\n",
       "      <td>-23.412070</td>\n",
       "      <td>19.09940</td>\n",
       "    </tr>\n",
       "    <tr>\n",
       "      <th>28</th>\n",
       "      <td>1/1/15 2:00:00 PM CST</td>\n",
       "      <td>-14.986560</td>\n",
       "      <td>19.09940</td>\n",
       "    </tr>\n",
       "    <tr>\n",
       "      <th>29</th>\n",
       "      <td>1/1/15 2:30:00 PM CST</td>\n",
       "      <td>230.698100</td>\n",
       "      <td>19.09940</td>\n",
       "    </tr>\n",
       "    <tr>\n",
       "      <th>...</th>\n",
       "      <td>...</td>\n",
       "      <td>...</td>\n",
       "      <td>...</td>\n",
       "    </tr>\n",
       "    <tr>\n",
       "      <th>17501</th>\n",
       "      <td>12/31/15 9:00:00 AM CST</td>\n",
       "      <td>236.655800</td>\n",
       "      <td>17.36593</td>\n",
       "    </tr>\n",
       "    <tr>\n",
       "      <th>17502</th>\n",
       "      <td>12/31/15 9:30:00 AM CST</td>\n",
       "      <td>257.163800</td>\n",
       "      <td>17.66302</td>\n",
       "    </tr>\n",
       "    <tr>\n",
       "      <th>17503</th>\n",
       "      <td>12/31/15 10:00:00 AM CST</td>\n",
       "      <td>275.714500</td>\n",
       "      <td>19.46100</td>\n",
       "    </tr>\n",
       "    <tr>\n",
       "      <th>17504</th>\n",
       "      <td>12/31/15 10:30:00 AM CST</td>\n",
       "      <td>317.969500</td>\n",
       "      <td>20.05588</td>\n",
       "    </tr>\n",
       "    <tr>\n",
       "      <th>17505</th>\n",
       "      <td>12/31/15 11:00:00 AM CST</td>\n",
       "      <td>326.865400</td>\n",
       "      <td>20.35330</td>\n",
       "    </tr>\n",
       "    <tr>\n",
       "      <th>17506</th>\n",
       "      <td>12/31/15 11:30:00 AM CST</td>\n",
       "      <td>345.543900</td>\n",
       "      <td>20.05586</td>\n",
       "    </tr>\n",
       "    <tr>\n",
       "      <th>17507</th>\n",
       "      <td>12/31/15 12:00:00 PM CST</td>\n",
       "      <td>362.052600</td>\n",
       "      <td>20.05586</td>\n",
       "    </tr>\n",
       "    <tr>\n",
       "      <th>17508</th>\n",
       "      <td>12/31/15 12:30:00 PM CST</td>\n",
       "      <td>322.999800</td>\n",
       "      <td>20.05586</td>\n",
       "    </tr>\n",
       "    <tr>\n",
       "      <th>17509</th>\n",
       "      <td>12/31/15 1:00:00 PM CST</td>\n",
       "      <td>312.133700</td>\n",
       "      <td>20.35544</td>\n",
       "    </tr>\n",
       "    <tr>\n",
       "      <th>17510</th>\n",
       "      <td>12/31/15 1:30:00 PM CST</td>\n",
       "      <td>301.239900</td>\n",
       "      <td>20.35544</td>\n",
       "    </tr>\n",
       "    <tr>\n",
       "      <th>17511</th>\n",
       "      <td>12/31/15 2:00:00 PM CST</td>\n",
       "      <td>273.287600</td>\n",
       "      <td>20.35544</td>\n",
       "    </tr>\n",
       "    <tr>\n",
       "      <th>17512</th>\n",
       "      <td>12/31/15 2:30:00 PM CST</td>\n",
       "      <td>271.123200</td>\n",
       "      <td>20.05530</td>\n",
       "    </tr>\n",
       "    <tr>\n",
       "      <th>17513</th>\n",
       "      <td>12/31/15 3:00:00 PM CST</td>\n",
       "      <td>242.403900</td>\n",
       "      <td>19.75571</td>\n",
       "    </tr>\n",
       "    <tr>\n",
       "      <th>17514</th>\n",
       "      <td>12/31/15 3:30:00 PM CST</td>\n",
       "      <td>262.356400</td>\n",
       "      <td>19.75571</td>\n",
       "    </tr>\n",
       "    <tr>\n",
       "      <th>17515</th>\n",
       "      <td>12/31/15 4:00:00 PM CST</td>\n",
       "      <td>279.414900</td>\n",
       "      <td>19.75571</td>\n",
       "    </tr>\n",
       "    <tr>\n",
       "      <th>17516</th>\n",
       "      <td>12/31/15 4:30:00 PM CST</td>\n",
       "      <td>243.730300</td>\n",
       "      <td>19.75571</td>\n",
       "    </tr>\n",
       "    <tr>\n",
       "      <th>17517</th>\n",
       "      <td>12/31/15 5:00:00 PM CST</td>\n",
       "      <td>186.784400</td>\n",
       "      <td>19.45850</td>\n",
       "    </tr>\n",
       "    <tr>\n",
       "      <th>17518</th>\n",
       "      <td>12/31/15 5:30:00 PM CST</td>\n",
       "      <td>207.929000</td>\n",
       "      <td>19.16116</td>\n",
       "    </tr>\n",
       "    <tr>\n",
       "      <th>17519</th>\n",
       "      <td>12/31/15 6:00:00 PM CST</td>\n",
       "      <td>203.959900</td>\n",
       "      <td>19.16116</td>\n",
       "    </tr>\n",
       "    <tr>\n",
       "      <th>17520</th>\n",
       "      <td>12/31/15 6:30:00 PM CST</td>\n",
       "      <td>188.108200</td>\n",
       "      <td>18.86291</td>\n",
       "    </tr>\n",
       "    <tr>\n",
       "      <th>17521</th>\n",
       "      <td>12/31/15 7:00:00 PM CST</td>\n",
       "      <td>145.609200</td>\n",
       "      <td>18.86291</td>\n",
       "    </tr>\n",
       "    <tr>\n",
       "      <th>17522</th>\n",
       "      <td>12/31/15 7:30:00 PM CST</td>\n",
       "      <td>194.256300</td>\n",
       "      <td>18.86291</td>\n",
       "    </tr>\n",
       "    <tr>\n",
       "      <th>17523</th>\n",
       "      <td>12/31/15 8:00:00 PM CST</td>\n",
       "      <td>191.647000</td>\n",
       "      <td>18.86291</td>\n",
       "    </tr>\n",
       "    <tr>\n",
       "      <th>17524</th>\n",
       "      <td>12/31/15 8:30:00 PM CST</td>\n",
       "      <td>153.158600</td>\n",
       "      <td>18.86291</td>\n",
       "    </tr>\n",
       "    <tr>\n",
       "      <th>17525</th>\n",
       "      <td>12/31/15 9:00:00 PM CST</td>\n",
       "      <td>169.632600</td>\n",
       "      <td>18.86291</td>\n",
       "    </tr>\n",
       "    <tr>\n",
       "      <th>17526</th>\n",
       "      <td>12/31/15 9:30:00 PM CST</td>\n",
       "      <td>189.803700</td>\n",
       "      <td>18.86291</td>\n",
       "    </tr>\n",
       "    <tr>\n",
       "      <th>17527</th>\n",
       "      <td>12/31/15 10:00:00 PM CST</td>\n",
       "      <td>6.440963</td>\n",
       "      <td>18.86291</td>\n",
       "    </tr>\n",
       "    <tr>\n",
       "      <th>17528</th>\n",
       "      <td>12/31/15 10:30:00 PM CST</td>\n",
       "      <td>126.565500</td>\n",
       "      <td>18.86291</td>\n",
       "    </tr>\n",
       "    <tr>\n",
       "      <th>17529</th>\n",
       "      <td>12/31/15 11:00:00 PM CST</td>\n",
       "      <td>8.075071</td>\n",
       "      <td>18.86291</td>\n",
       "    </tr>\n",
       "    <tr>\n",
       "      <th>17530</th>\n",
       "      <td>12/31/15 11:30:00 PM CST</td>\n",
       "      <td>7.707413</td>\n",
       "      <td>18.86291</td>\n",
       "    </tr>\n",
       "  </tbody>\n",
       "</table>\n",
       "<p>17531 rows × 3 columns</p>\n",
       "</div>"
      ],
      "text/plain": [
       "                           Time  Cooling Load  Temperature\n",
       "0        1/1/15 12:00:00 AM CST      0.802203     17.57697\n",
       "1        1/1/15 12:30:00 AM CST      0.802203     17.57697\n",
       "2         1/1/15 1:00:00 AM CST      1.895214     17.27978\n",
       "3         1/1/15 1:30:00 AM CST     14.007580     17.27978\n",
       "4         1/1/15 2:00:00 AM CST      1.014915     17.27978\n",
       "5         1/1/15 2:30:00 AM CST      1.015470     16.98257\n",
       "6         1/1/15 3:00:00 AM CST      1.647006     16.98257\n",
       "7         1/1/15 3:30:00 AM CST      0.930945     16.98257\n",
       "8         1/1/15 4:00:00 AM CST      0.786436     16.98257\n",
       "9         1/1/15 4:30:00 AM CST      8.029107     16.98257\n",
       "10        1/1/15 5:00:00 AM CST      0.828741     16.68523\n",
       "11        1/1/15 5:30:00 AM CST      0.828008     16.68523\n",
       "12        1/1/15 6:00:00 AM CST      0.830196     16.68523\n",
       "13        1/1/15 6:30:00 AM CST      0.771979     16.68523\n",
       "14        1/1/15 7:00:00 AM CST      0.781031     16.68523\n",
       "15        1/1/15 7:30:00 AM CST   -138.163100     16.38815\n",
       "16        1/1/15 8:00:00 AM CST    234.272000     16.38815\n",
       "17        1/1/15 8:30:00 AM CST      1.422757     16.38815\n",
       "18        1/1/15 9:00:00 AM CST     37.413010     16.68587\n",
       "19        1/1/15 9:30:00 AM CST   -177.609500     16.98398\n",
       "20       1/1/15 10:00:00 AM CST    212.855500     18.48843\n",
       "21       1/1/15 10:30:00 AM CST    379.325800     19.99398\n",
       "22       1/1/15 11:00:00 AM CST    164.910100     19.39741\n",
       "23       1/1/15 11:30:00 AM CST    105.905700     19.09951\n",
       "24       1/1/15 12:00:00 PM CST   -161.721900     18.80202\n",
       "25       1/1/15 12:30:00 PM CST    378.861200     18.80202\n",
       "26        1/1/15 1:00:00 PM CST    203.685800     19.09940\n",
       "27        1/1/15 1:30:00 PM CST    -23.412070     19.09940\n",
       "28        1/1/15 2:00:00 PM CST    -14.986560     19.09940\n",
       "29        1/1/15 2:30:00 PM CST    230.698100     19.09940\n",
       "...                         ...           ...          ...\n",
       "17501   12/31/15 9:00:00 AM CST    236.655800     17.36593\n",
       "17502   12/31/15 9:30:00 AM CST    257.163800     17.66302\n",
       "17503  12/31/15 10:00:00 AM CST    275.714500     19.46100\n",
       "17504  12/31/15 10:30:00 AM CST    317.969500     20.05588\n",
       "17505  12/31/15 11:00:00 AM CST    326.865400     20.35330\n",
       "17506  12/31/15 11:30:00 AM CST    345.543900     20.05586\n",
       "17507  12/31/15 12:00:00 PM CST    362.052600     20.05586\n",
       "17508  12/31/15 12:30:00 PM CST    322.999800     20.05586\n",
       "17509   12/31/15 1:00:00 PM CST    312.133700     20.35544\n",
       "17510   12/31/15 1:30:00 PM CST    301.239900     20.35544\n",
       "17511   12/31/15 2:00:00 PM CST    273.287600     20.35544\n",
       "17512   12/31/15 2:30:00 PM CST    271.123200     20.05530\n",
       "17513   12/31/15 3:00:00 PM CST    242.403900     19.75571\n",
       "17514   12/31/15 3:30:00 PM CST    262.356400     19.75571\n",
       "17515   12/31/15 4:00:00 PM CST    279.414900     19.75571\n",
       "17516   12/31/15 4:30:00 PM CST    243.730300     19.75571\n",
       "17517   12/31/15 5:00:00 PM CST    186.784400     19.45850\n",
       "17518   12/31/15 5:30:00 PM CST    207.929000     19.16116\n",
       "17519   12/31/15 6:00:00 PM CST    203.959900     19.16116\n",
       "17520   12/31/15 6:30:00 PM CST    188.108200     18.86291\n",
       "17521   12/31/15 7:00:00 PM CST    145.609200     18.86291\n",
       "17522   12/31/15 7:30:00 PM CST    194.256300     18.86291\n",
       "17523   12/31/15 8:00:00 PM CST    191.647000     18.86291\n",
       "17524   12/31/15 8:30:00 PM CST    153.158600     18.86291\n",
       "17525   12/31/15 9:00:00 PM CST    169.632600     18.86291\n",
       "17526   12/31/15 9:30:00 PM CST    189.803700     18.86291\n",
       "17527  12/31/15 10:00:00 PM CST      6.440963     18.86291\n",
       "17528  12/31/15 10:30:00 PM CST    126.565500     18.86291\n",
       "17529  12/31/15 11:00:00 PM CST      8.075071     18.86291\n",
       "17530  12/31/15 11:30:00 PM CST      7.707413     18.86291\n",
       "\n",
       "[17531 rows x 3 columns]"
      ]
     },
     "execution_count": 14,
     "metadata": {},
     "output_type": "execute_result"
    }
   ],
   "source": [
    "df"
   ]
  },
  {
   "cell_type": "markdown",
   "metadata": {},
   "source": []
  },
  {
   "cell_type": "markdown",
   "metadata": {},
   "source": [
    "Let's make a plot of change of cooling load with temperature"
   ]
  },
  {
   "cell_type": "code",
   "execution_count": 15,
   "metadata": {
    "collapsed": true
   },
   "outputs": [],
   "source": [
    "# just for Jupyter only. No need in actual operation\n",
    "%matplotlib inline  "
   ]
  },
  {
   "cell_type": "code",
   "execution_count": 16,
   "metadata": {
    "collapsed": false
   },
   "outputs": [
    {
     "data": {
      "text/plain": [
       "<matplotlib.axes._subplots.AxesSubplot at 0x9e650b8>"
      ]
     },
     "execution_count": 16,
     "metadata": {},
     "output_type": "execute_result"
    },
    {
     "data": {
      "image/png": "[encoded data removed]",
      "text/plain": [
       "<matplotlib.figure.Figure at 0xb8640f0>"
      ]
     },
     "metadata": {},
     "output_type": "display_data"
    }
   ],
   "source": [
    "import matplotlib.pyplot as plt\n",
    "df.plot('Temperature', 'Cooling Load', kind='scatter')\n",
    "# plt.show() or plt.savefig(filename) is needed in the actual code"
   ]
  },
  {
   "cell_type": "markdown",
   "metadata": {},
   "source": [
    "Sounds like we have a problem. Let's see if we can remove the outlier from our plots quickly without interrupting the original data."
   ]
  },
  {
   "cell_type": "code",
   "execution_count": 17,
   "metadata": {
    "collapsed": false
   },
   "outputs": [
    {
     "data": {
      "text/plain": [
       "<matplotlib.axes._subplots.AxesSubplot at 0xa52a588>"
      ]
     },
     "execution_count": 17,
     "metadata": {},
     "output_type": "execute_result"
    },
    {
     "data": {
      "image/png": "[encoded data removed]",
      "text/plain": [
       "<matplotlib.figure.Figure at 0x9d46128>"
      ]
     },
     "metadata": {},
     "output_type": "display_data"
    }
   ],
   "source": [
    "df.loc[df.loc[:, 'Cooling Load'] < 5.0*10**6, :].plot('Temperature', 'Cooling Load', kind='scatter', xlim=(None, 38))"
   ]
  },
  {
   "cell_type": "markdown",
   "metadata": {},
   "source": [
    "How about making the plots only for the first two days only?"
   ]
  },
  {
   "cell_type": "code",
   "execution_count": 18,
   "metadata": {
    "collapsed": false
   },
   "outputs": [
    {
     "data": {
      "image/png": "[encoded data removed]",
      "text/plain": [
       "<matplotlib.figure.Figure at 0xbde2390>"
      ]
     },
     "metadata": {},
     "output_type": "display_data"
    },
    {
     "data": {
      "image/png": "[encoded data removed]",
      "text/plain": [
       "<matplotlib.figure.Figure at 0xb86b4e0>"
      ]
     },
     "metadata": {},
     "output_type": "display_data"
    }
   ],
   "source": [
    "for ind in range(2):\n",
    "    df.loc[ind*48:(ind+1)*48].plot('Temperature', 'Cooling Load', kind='scatter')"
   ]
  },
  {
   "cell_type": "markdown",
   "metadata": {},
   "source": [
    "How about the cooling load in a histogram?"
   ]
  },
  {
   "cell_type": "code",
   "execution_count": 19,
   "metadata": {
    "collapsed": false
   },
   "outputs": [
    {
     "data": {
      "text/plain": [
       "<matplotlib.axes._subplots.AxesSubplot at 0xb86ba90>"
      ]
     },
     "execution_count": 19,
     "metadata": {},
     "output_type": "execute_result"
    },
    {
     "data": {
      "image/png": "[encoded data removed]",
      "text/plain": [
       "<matplotlib.figure.Figure at 0xb8202e8>"
      ]
     },
     "metadata": {},
     "output_type": "display_data"
    }
   ],
   "source": [
    "df.loc[df.loc[:, 'Cooling Load'] < 5.0*10**6, :].plot(y='Cooling Load', kind='hist')  # Enter y only for histogram"
   ]
  },
  {
   "cell_type": "markdown",
   "metadata": {},
   "source": [
    "OK. The incorrect data are quite annoying. Let's get rid of it by putting in an NaN to it."
   ]
  },
  {
   "cell_type": "code",
   "execution_count": 20,
   "metadata": {
    "collapsed": true
   },
   "outputs": [],
   "source": [
    "df.loc[df.loc[:, 'Cooling Load'] > 5.0*10**6, 'Cooling Load'] = float('NaN') "
   ]
  },
  {
   "cell_type": "code",
   "execution_count": 21,
   "metadata": {
    "collapsed": false
   },
   "outputs": [
    {
     "data": {
      "text/plain": [
       "<matplotlib.axes._subplots.AxesSubplot at 0xbe0dc50>"
      ]
     },
     "execution_count": 21,
     "metadata": {},
     "output_type": "execute_result"
    },
    {
     "data": {
      "image/png": "[encoded data removed]",
      "text/plain": [
       "<matplotlib.figure.Figure at 0xb8f74a8>"
      ]
     },
     "metadata": {},
     "output_type": "display_data"
    }
   ],
   "source": [
    "df.plot(y='Cooling Load', kind='hist')"
   ]
  },
  {
   "cell_type": "markdown",
   "metadata": {},
   "source": [
    "OK. Now let's plot change of temperature with time."
   ]
  },
  {
   "cell_type": "code",
   "execution_count": 22,
   "metadata": {
    "collapsed": false
   },
   "outputs": [
    {
     "data": {
      "text/plain": [
       "<matplotlib.axes._subplots.AxesSubplot at 0xb91a630>"
      ]
     },
     "execution_count": 22,
     "metadata": {},
     "output_type": "execute_result"
    },
    {
     "data": {
      "image/png": "[encoded data removed]",
      "text/plain": [
       "<matplotlib.figure.Figure at 0xbd019b0>"
      ]
     },
     "metadata": {},
     "output_type": "display_data"
    }
   ],
   "source": [
    "df.plot('Time', 'Temperature', rot=90)"
   ]
  },
  {
   "cell_type": "markdown",
   "metadata": {},
   "source": [
    "Doesn't look very nice, right? Why is that?"
   ]
  },
  {
   "cell_type": "code",
   "execution_count": 23,
   "metadata": {
    "collapsed": false
   },
   "outputs": [
    {
     "data": {
      "text/plain": [
       "Index(['Time', 'Cooling Load', 'Temperature'], dtype='object')"
      ]
     },
     "execution_count": 23,
     "metadata": {},
     "output_type": "execute_result"
    }
   ],
   "source": [
    "df.columns"
   ]
  },
  {
   "cell_type": "markdown",
   "metadata": {},
   "source": [
    "The reason is that the data in 'Time' are string (character) data and cannot be understood by Python. "
   ]
  },
  {
   "cell_type": "code",
   "execution_count": 24,
   "metadata": {
    "collapsed": false
   },
   "outputs": [
    {
     "name": "stdout",
     "output_type": "stream",
     "text": [
      "1/1/15 12:00:00 AM CST <class 'str'>\n"
     ]
    }
   ],
   "source": [
    "print(df.loc[0, 'Time'], type(df.loc[0, 'Time']))"
   ]
  },
  {
   "cell_type": "markdown",
   "metadata": {},
   "source": [
    "We need to convert them to something that Python can read as time by using the datetime package."
   ]
  },
  {
   "cell_type": "code",
   "execution_count": 25,
   "metadata": {
    "collapsed": false
   },
   "outputs": [],
   "source": [
    "from datetime import datetime\n",
    "example_datetime = datetime(2016, 11, 20, 18, 2, 5)"
   ]
  },
  {
   "cell_type": "code",
   "execution_count": 26,
   "metadata": {
    "collapsed": false
   },
   "outputs": [
    {
     "data": {
      "text/plain": [
       "datetime.datetime"
      ]
     },
     "execution_count": 26,
     "metadata": {},
     "output_type": "execute_result"
    }
   ],
   "source": [
    "type(example_datetime)"
   ]
  },
  {
   "cell_type": "markdown",
   "metadata": {},
   "source": [
    "It helps you to record the details of dates and time in good format"
   ]
  },
  {
   "cell_type": "code",
   "execution_count": 27,
   "metadata": {
    "collapsed": false
   },
   "outputs": [
    {
     "name": "stdout",
     "output_type": "stream",
     "text": [
      "2016-11-20 18:02:05\n"
     ]
    }
   ],
   "source": [
    "print(example_datetime)"
   ]
  },
  {
   "cell_type": "markdown",
   "metadata": {},
   "source": [
    "And you can do a lot of things with it, such as identifying whether it's a weekday or weekend."
   ]
  },
  {
   "cell_type": "code",
   "execution_count": 28,
   "metadata": {
    "collapsed": false
   },
   "outputs": [
    {
     "data": {
      "text/plain": [
       "6"
      ]
     },
     "execution_count": 28,
     "metadata": {},
     "output_type": "execute_result"
    }
   ],
   "source": [
    "example_datetime.weekday()  # which is a Sunday"
   ]
  },
  {
   "cell_type": "markdown",
   "metadata": {},
   "source": [
    "Comparison."
   ]
  },
  {
   "cell_type": "code",
   "execution_count": 29,
   "metadata": {
    "collapsed": false
   },
   "outputs": [
    {
     "data": {
      "text/plain": [
       "True"
      ]
     },
     "execution_count": 29,
     "metadata": {},
     "output_type": "execute_result"
    }
   ],
   "source": [
    "example_datetime > datetime(2015, 1, 1)"
   ]
  },
  {
   "cell_type": "code",
   "execution_count": 30,
   "metadata": {
    "collapsed": false
   },
   "outputs": [
    {
     "data": {
      "text/plain": [
       "False"
      ]
     },
     "execution_count": 30,
     "metadata": {},
     "output_type": "execute_result"
    }
   ],
   "source": [
    "example_datetime > datetime(2016, 11, 21, 4, 6)"
   ]
  },
  {
   "cell_type": "markdown",
   "metadata": {},
   "source": [
    "Or even addition."
   ]
  },
  {
   "cell_type": "code",
   "execution_count": 31,
   "metadata": {
    "collapsed": false
   },
   "outputs": [
    {
     "name": "stdout",
     "output_type": "stream",
     "text": [
      "2016-11-21 18:02:05\n"
     ]
    }
   ],
   "source": [
    "from datetime import timedelta\n",
    "print(example_datetime+timedelta(1))  # add 1 day"
   ]
  },
  {
   "cell_type": "code",
   "execution_count": 32,
   "metadata": {
    "collapsed": false
   },
   "outputs": [
    {
     "name": "stdout",
     "output_type": "stream",
     "text": [
      "2016-11-20 18:02:23\n"
     ]
    }
   ],
   "source": [
    "print(example_datetime+timedelta(0, 18))  # add 18 seconds"
   ]
  },
  {
   "cell_type": "markdown",
   "metadata": {},
   "source": [
    "Now let's convert the time string into datetime objects."
   ]
  },
  {
   "cell_type": "code",
   "execution_count": 33,
   "metadata": {
    "collapsed": false
   },
   "outputs": [],
   "source": [
    "df.loc[:, 'Time'] = [datetime.strptime(timestr, '%m/%d/%y %I:%M:%S %p CST') for timestr in df.loc[:, 'Time']]"
   ]
  },
  {
   "cell_type": "markdown",
   "metadata": {},
   "source": [
    "Let's check our dataframe again."
   ]
  },
  {
   "cell_type": "code",
   "execution_count": 34,
   "metadata": {
    "collapsed": false
   },
   "outputs": [
    {
     "data": {
      "text/html": [
       "<div>\n",
       "<table border=\"1\" class=\"dataframe\">\n",
       "  <thead>\n",
       "    <tr style=\"text-align: right;\">\n",
       "      <th></th>\n",
       "      <th>Time</th>\n",
       "      <th>Cooling Load</th>\n",
       "      <th>Temperature</th>\n",
       "    </tr>\n",
       "  </thead>\n",
       "  <tbody>\n",
       "    <tr>\n",
       "      <th>0</th>\n",
       "      <td>2015-01-01 00:00:00</td>\n",
       "      <td>0.802203</td>\n",
       "      <td>17.57697</td>\n",
       "    </tr>\n",
       "    <tr>\n",
       "      <th>1</th>\n",
       "      <td>2015-01-01 00:30:00</td>\n",
       "      <td>0.802203</td>\n",
       "      <td>17.57697</td>\n",
       "    </tr>\n",
       "    <tr>\n",
       "      <th>2</th>\n",
       "      <td>2015-01-01 01:00:00</td>\n",
       "      <td>1.895214</td>\n",
       "      <td>17.27978</td>\n",
       "    </tr>\n",
       "    <tr>\n",
       "      <th>3</th>\n",
       "      <td>2015-01-01 01:30:00</td>\n",
       "      <td>14.007580</td>\n",
       "      <td>17.27978</td>\n",
       "    </tr>\n",
       "    <tr>\n",
       "      <th>4</th>\n",
       "      <td>2015-01-01 02:00:00</td>\n",
       "      <td>1.014915</td>\n",
       "      <td>17.27978</td>\n",
       "    </tr>\n",
       "    <tr>\n",
       "      <th>5</th>\n",
       "      <td>2015-01-01 02:30:00</td>\n",
       "      <td>1.015470</td>\n",
       "      <td>16.98257</td>\n",
       "    </tr>\n",
       "    <tr>\n",
       "      <th>6</th>\n",
       "      <td>2015-01-01 03:00:00</td>\n",
       "      <td>1.647006</td>\n",
       "      <td>16.98257</td>\n",
       "    </tr>\n",
       "    <tr>\n",
       "      <th>7</th>\n",
       "      <td>2015-01-01 03:30:00</td>\n",
       "      <td>0.930945</td>\n",
       "      <td>16.98257</td>\n",
       "    </tr>\n",
       "    <tr>\n",
       "      <th>8</th>\n",
       "      <td>2015-01-01 04:00:00</td>\n",
       "      <td>0.786436</td>\n",
       "      <td>16.98257</td>\n",
       "    </tr>\n",
       "    <tr>\n",
       "      <th>9</th>\n",
       "      <td>2015-01-01 04:30:00</td>\n",
       "      <td>8.029107</td>\n",
       "      <td>16.98257</td>\n",
       "    </tr>\n",
       "    <tr>\n",
       "      <th>10</th>\n",
       "      <td>2015-01-01 05:00:00</td>\n",
       "      <td>0.828741</td>\n",
       "      <td>16.68523</td>\n",
       "    </tr>\n",
       "    <tr>\n",
       "      <th>11</th>\n",
       "      <td>2015-01-01 05:30:00</td>\n",
       "      <td>0.828008</td>\n",
       "      <td>16.68523</td>\n",
       "    </tr>\n",
       "    <tr>\n",
       "      <th>12</th>\n",
       "      <td>2015-01-01 06:00:00</td>\n",
       "      <td>0.830196</td>\n",
       "      <td>16.68523</td>\n",
       "    </tr>\n",
       "    <tr>\n",
       "      <th>13</th>\n",
       "      <td>2015-01-01 06:30:00</td>\n",
       "      <td>0.771979</td>\n",
       "      <td>16.68523</td>\n",
       "    </tr>\n",
       "    <tr>\n",
       "      <th>14</th>\n",
       "      <td>2015-01-01 07:00:00</td>\n",
       "      <td>0.781031</td>\n",
       "      <td>16.68523</td>\n",
       "    </tr>\n",
       "    <tr>\n",
       "      <th>15</th>\n",
       "      <td>2015-01-01 07:30:00</td>\n",
       "      <td>-138.163100</td>\n",
       "      <td>16.38815</td>\n",
       "    </tr>\n",
       "    <tr>\n",
       "      <th>16</th>\n",
       "      <td>2015-01-01 08:00:00</td>\n",
       "      <td>234.272000</td>\n",
       "      <td>16.38815</td>\n",
       "    </tr>\n",
       "    <tr>\n",
       "      <th>17</th>\n",
       "      <td>2015-01-01 08:30:00</td>\n",
       "      <td>1.422757</td>\n",
       "      <td>16.38815</td>\n",
       "    </tr>\n",
       "    <tr>\n",
       "      <th>18</th>\n",
       "      <td>2015-01-01 09:00:00</td>\n",
       "      <td>37.413010</td>\n",
       "      <td>16.68587</td>\n",
       "    </tr>\n",
       "    <tr>\n",
       "      <th>19</th>\n",
       "      <td>2015-01-01 09:30:00</td>\n",
       "      <td>-177.609500</td>\n",
       "      <td>16.98398</td>\n",
       "    </tr>\n",
       "    <tr>\n",
       "      <th>20</th>\n",
       "      <td>2015-01-01 10:00:00</td>\n",
       "      <td>212.855500</td>\n",
       "      <td>18.48843</td>\n",
       "    </tr>\n",
       "    <tr>\n",
       "      <th>21</th>\n",
       "      <td>2015-01-01 10:30:00</td>\n",
       "      <td>379.325800</td>\n",
       "      <td>19.99398</td>\n",
       "    </tr>\n",
       "    <tr>\n",
       "      <th>22</th>\n",
       "      <td>2015-01-01 11:00:00</td>\n",
       "      <td>164.910100</td>\n",
       "      <td>19.39741</td>\n",
       "    </tr>\n",
       "    <tr>\n",
       "      <th>23</th>\n",
       "      <td>2015-01-01 11:30:00</td>\n",
       "      <td>105.905700</td>\n",
       "      <td>19.09951</td>\n",
       "    </tr>\n",
       "    <tr>\n",
       "      <th>24</th>\n",
       "      <td>2015-01-01 12:00:00</td>\n",
       "      <td>-161.721900</td>\n",
       "      <td>18.80202</td>\n",
       "    </tr>\n",
       "    <tr>\n",
       "      <th>25</th>\n",
       "      <td>2015-01-01 12:30:00</td>\n",
       "      <td>378.861200</td>\n",
       "      <td>18.80202</td>\n",
       "    </tr>\n",
       "    <tr>\n",
       "      <th>26</th>\n",
       "      <td>2015-01-01 13:00:00</td>\n",
       "      <td>203.685800</td>\n",
       "      <td>19.09940</td>\n",
       "    </tr>\n",
       "    <tr>\n",
       "      <th>27</th>\n",
       "      <td>2015-01-01 13:30:00</td>\n",
       "      <td>-23.412070</td>\n",
       "      <td>19.09940</td>\n",
       "    </tr>\n",
       "    <tr>\n",
       "      <th>28</th>\n",
       "      <td>2015-01-01 14:00:00</td>\n",
       "      <td>-14.986560</td>\n",
       "      <td>19.09940</td>\n",
       "    </tr>\n",
       "    <tr>\n",
       "      <th>29</th>\n",
       "      <td>2015-01-01 14:30:00</td>\n",
       "      <td>230.698100</td>\n",
       "      <td>19.09940</td>\n",
       "    </tr>\n",
       "    <tr>\n",
       "      <th>...</th>\n",
       "      <td>...</td>\n",
       "      <td>...</td>\n",
       "      <td>...</td>\n",
       "    </tr>\n",
       "    <tr>\n",
       "      <th>17501</th>\n",
       "      <td>2015-12-31 09:00:00</td>\n",
       "      <td>236.655800</td>\n",
       "      <td>17.36593</td>\n",
       "    </tr>\n",
       "    <tr>\n",
       "      <th>17502</th>\n",
       "      <td>2015-12-31 09:30:00</td>\n",
       "      <td>257.163800</td>\n",
       "      <td>17.66302</td>\n",
       "    </tr>\n",
       "    <tr>\n",
       "      <th>17503</th>\n",
       "      <td>2015-12-31 10:00:00</td>\n",
       "      <td>275.714500</td>\n",
       "      <td>19.46100</td>\n",
       "    </tr>\n",
       "    <tr>\n",
       "      <th>17504</th>\n",
       "      <td>2015-12-31 10:30:00</td>\n",
       "      <td>317.969500</td>\n",
       "      <td>20.05588</td>\n",
       "    </tr>\n",
       "    <tr>\n",
       "      <th>17505</th>\n",
       "      <td>2015-12-31 11:00:00</td>\n",
       "      <td>326.865400</td>\n",
       "      <td>20.35330</td>\n",
       "    </tr>\n",
       "    <tr>\n",
       "      <th>17506</th>\n",
       "      <td>2015-12-31 11:30:00</td>\n",
       "      <td>345.543900</td>\n",
       "      <td>20.05586</td>\n",
       "    </tr>\n",
       "    <tr>\n",
       "      <th>17507</th>\n",
       "      <td>2015-12-31 12:00:00</td>\n",
       "      <td>362.052600</td>\n",
       "      <td>20.05586</td>\n",
       "    </tr>\n",
       "    <tr>\n",
       "      <th>17508</th>\n",
       "      <td>2015-12-31 12:30:00</td>\n",
       "      <td>322.999800</td>\n",
       "      <td>20.05586</td>\n",
       "    </tr>\n",
       "    <tr>\n",
       "      <th>17509</th>\n",
       "      <td>2015-12-31 13:00:00</td>\n",
       "      <td>312.133700</td>\n",
       "      <td>20.35544</td>\n",
       "    </tr>\n",
       "    <tr>\n",
       "      <th>17510</th>\n",
       "      <td>2015-12-31 13:30:00</td>\n",
       "      <td>301.239900</td>\n",
       "      <td>20.35544</td>\n",
       "    </tr>\n",
       "    <tr>\n",
       "      <th>17511</th>\n",
       "      <td>2015-12-31 14:00:00</td>\n",
       "      <td>273.287600</td>\n",
       "      <td>20.35544</td>\n",
       "    </tr>\n",
       "    <tr>\n",
       "      <th>17512</th>\n",
       "      <td>2015-12-31 14:30:00</td>\n",
       "      <td>271.123200</td>\n",
       "      <td>20.05530</td>\n",
       "    </tr>\n",
       "    <tr>\n",
       "      <th>17513</th>\n",
       "      <td>2015-12-31 15:00:00</td>\n",
       "      <td>242.403900</td>\n",
       "      <td>19.75571</td>\n",
       "    </tr>\n",
       "    <tr>\n",
       "      <th>17514</th>\n",
       "      <td>2015-12-31 15:30:00</td>\n",
       "      <td>262.356400</td>\n",
       "      <td>19.75571</td>\n",
       "    </tr>\n",
       "    <tr>\n",
       "      <th>17515</th>\n",
       "      <td>2015-12-31 16:00:00</td>\n",
       "      <td>279.414900</td>\n",
       "      <td>19.75571</td>\n",
       "    </tr>\n",
       "    <tr>\n",
       "      <th>17516</th>\n",
       "      <td>2015-12-31 16:30:00</td>\n",
       "      <td>243.730300</td>\n",
       "      <td>19.75571</td>\n",
       "    </tr>\n",
       "    <tr>\n",
       "      <th>17517</th>\n",
       "      <td>2015-12-31 17:00:00</td>\n",
       "      <td>186.784400</td>\n",
       "      <td>19.45850</td>\n",
       "    </tr>\n",
       "    <tr>\n",
       "      <th>17518</th>\n",
       "      <td>2015-12-31 17:30:00</td>\n",
       "      <td>207.929000</td>\n",
       "      <td>19.16116</td>\n",
       "    </tr>\n",
       "    <tr>\n",
       "      <th>17519</th>\n",
       "      <td>2015-12-31 18:00:00</td>\n",
       "      <td>203.959900</td>\n",
       "      <td>19.16116</td>\n",
       "    </tr>\n",
       "    <tr>\n",
       "      <th>17520</th>\n",
       "      <td>2015-12-31 18:30:00</td>\n",
       "      <td>188.108200</td>\n",
       "      <td>18.86291</td>\n",
       "    </tr>\n",
       "    <tr>\n",
       "      <th>17521</th>\n",
       "      <td>2015-12-31 19:00:00</td>\n",
       "      <td>145.609200</td>\n",
       "      <td>18.86291</td>\n",
       "    </tr>\n",
       "    <tr>\n",
       "      <th>17522</th>\n",
       "      <td>2015-12-31 19:30:00</td>\n",
       "      <td>194.256300</td>\n",
       "      <td>18.86291</td>\n",
       "    </tr>\n",
       "    <tr>\n",
       "      <th>17523</th>\n",
       "      <td>2015-12-31 20:00:00</td>\n",
       "      <td>191.647000</td>\n",
       "      <td>18.86291</td>\n",
       "    </tr>\n",
       "    <tr>\n",
       "      <th>17524</th>\n",
       "      <td>2015-12-31 20:30:00</td>\n",
       "      <td>153.158600</td>\n",
       "      <td>18.86291</td>\n",
       "    </tr>\n",
       "    <tr>\n",
       "      <th>17525</th>\n",
       "      <td>2015-12-31 21:00:00</td>\n",
       "      <td>169.632600</td>\n",
       "      <td>18.86291</td>\n",
       "    </tr>\n",
       "    <tr>\n",
       "      <th>17526</th>\n",
       "      <td>2015-12-31 21:30:00</td>\n",
       "      <td>189.803700</td>\n",
       "      <td>18.86291</td>\n",
       "    </tr>\n",
       "    <tr>\n",
       "      <th>17527</th>\n",
       "      <td>2015-12-31 22:00:00</td>\n",
       "      <td>6.440963</td>\n",
       "      <td>18.86291</td>\n",
       "    </tr>\n",
       "    <tr>\n",
       "      <th>17528</th>\n",
       "      <td>2015-12-31 22:30:00</td>\n",
       "      <td>126.565500</td>\n",
       "      <td>18.86291</td>\n",
       "    </tr>\n",
       "    <tr>\n",
       "      <th>17529</th>\n",
       "      <td>2015-12-31 23:00:00</td>\n",
       "      <td>8.075071</td>\n",
       "      <td>18.86291</td>\n",
       "    </tr>\n",
       "    <tr>\n",
       "      <th>17530</th>\n",
       "      <td>2015-12-31 23:30:00</td>\n",
       "      <td>7.707413</td>\n",
       "      <td>18.86291</td>\n",
       "    </tr>\n",
       "  </tbody>\n",
       "</table>\n",
       "<p>17531 rows × 3 columns</p>\n",
       "</div>"
      ],
      "text/plain": [
       "                     Time  Cooling Load  Temperature\n",
       "0     2015-01-01 00:00:00      0.802203     17.57697\n",
       "1     2015-01-01 00:30:00      0.802203     17.57697\n",
       "2     2015-01-01 01:00:00      1.895214     17.27978\n",
       "3     2015-01-01 01:30:00     14.007580     17.27978\n",
       "4     2015-01-01 02:00:00      1.014915     17.27978\n",
       "5     2015-01-01 02:30:00      1.015470     16.98257\n",
       "6     2015-01-01 03:00:00      1.647006     16.98257\n",
       "7     2015-01-01 03:30:00      0.930945     16.98257\n",
       "8     2015-01-01 04:00:00      0.786436     16.98257\n",
       "9     2015-01-01 04:30:00      8.029107     16.98257\n",
       "10    2015-01-01 05:00:00      0.828741     16.68523\n",
       "11    2015-01-01 05:30:00      0.828008     16.68523\n",
       "12    2015-01-01 06:00:00      0.830196     16.68523\n",
       "13    2015-01-01 06:30:00      0.771979     16.68523\n",
       "14    2015-01-01 07:00:00      0.781031     16.68523\n",
       "15    2015-01-01 07:30:00   -138.163100     16.38815\n",
       "16    2015-01-01 08:00:00    234.272000     16.38815\n",
       "17    2015-01-01 08:30:00      1.422757     16.38815\n",
       "18    2015-01-01 09:00:00     37.413010     16.68587\n",
       "19    2015-01-01 09:30:00   -177.609500     16.98398\n",
       "20    2015-01-01 10:00:00    212.855500     18.48843\n",
       "21    2015-01-01 10:30:00    379.325800     19.99398\n",
       "22    2015-01-01 11:00:00    164.910100     19.39741\n",
       "23    2015-01-01 11:30:00    105.905700     19.09951\n",
       "24    2015-01-01 12:00:00   -161.721900     18.80202\n",
       "25    2015-01-01 12:30:00    378.861200     18.80202\n",
       "26    2015-01-01 13:00:00    203.685800     19.09940\n",
       "27    2015-01-01 13:30:00    -23.412070     19.09940\n",
       "28    2015-01-01 14:00:00    -14.986560     19.09940\n",
       "29    2015-01-01 14:30:00    230.698100     19.09940\n",
       "...                   ...           ...          ...\n",
       "17501 2015-12-31 09:00:00    236.655800     17.36593\n",
       "17502 2015-12-31 09:30:00    257.163800     17.66302\n",
       "17503 2015-12-31 10:00:00    275.714500     19.46100\n",
       "17504 2015-12-31 10:30:00    317.969500     20.05588\n",
       "17505 2015-12-31 11:00:00    326.865400     20.35330\n",
       "17506 2015-12-31 11:30:00    345.543900     20.05586\n",
       "17507 2015-12-31 12:00:00    362.052600     20.05586\n",
       "17508 2015-12-31 12:30:00    322.999800     20.05586\n",
       "17509 2015-12-31 13:00:00    312.133700     20.35544\n",
       "17510 2015-12-31 13:30:00    301.239900     20.35544\n",
       "17511 2015-12-31 14:00:00    273.287600     20.35544\n",
       "17512 2015-12-31 14:30:00    271.123200     20.05530\n",
       "17513 2015-12-31 15:00:00    242.403900     19.75571\n",
       "17514 2015-12-31 15:30:00    262.356400     19.75571\n",
       "17515 2015-12-31 16:00:00    279.414900     19.75571\n",
       "17516 2015-12-31 16:30:00    243.730300     19.75571\n",
       "17517 2015-12-31 17:00:00    186.784400     19.45850\n",
       "17518 2015-12-31 17:30:00    207.929000     19.16116\n",
       "17519 2015-12-31 18:00:00    203.959900     19.16116\n",
       "17520 2015-12-31 18:30:00    188.108200     18.86291\n",
       "17521 2015-12-31 19:00:00    145.609200     18.86291\n",
       "17522 2015-12-31 19:30:00    194.256300     18.86291\n",
       "17523 2015-12-31 20:00:00    191.647000     18.86291\n",
       "17524 2015-12-31 20:30:00    153.158600     18.86291\n",
       "17525 2015-12-31 21:00:00    169.632600     18.86291\n",
       "17526 2015-12-31 21:30:00    189.803700     18.86291\n",
       "17527 2015-12-31 22:00:00      6.440963     18.86291\n",
       "17528 2015-12-31 22:30:00    126.565500     18.86291\n",
       "17529 2015-12-31 23:00:00      8.075071     18.86291\n",
       "17530 2015-12-31 23:30:00      7.707413     18.86291\n",
       "\n",
       "[17531 rows x 3 columns]"
      ]
     },
     "execution_count": 34,
     "metadata": {},
     "output_type": "execute_result"
    }
   ],
   "source": [
    "df"
   ]
  },
  {
   "cell_type": "code",
   "execution_count": 35,
   "metadata": {
    "collapsed": false
   },
   "outputs": [
    {
     "data": {
      "text/plain": [
       "<matplotlib.text.Text at 0xbd23828>"
      ]
     },
     "execution_count": 35,
     "metadata": {},
     "output_type": "execute_result"
    },
    {
     "data": {
      "image/png": "[encoded data removed]",
      "text/plain": [
       "<matplotlib.figure.Figure at 0xbcdbb70>"
      ]
     },
     "metadata": {},
     "output_type": "display_data"
    }
   ],
   "source": [
    "ax = df.plot(x='Time', y='Temperature', legend=False, rot=90)\n",
    "plt.ylabel('Temperature [$^\\circ$C]')  # making the y-axis label using LaTeX symbol syntax"
   ]
  },
  {
   "cell_type": "markdown",
   "metadata": {},
   "source": [
    "Any problem with the tick labels on the x-axis? It is actually not easy to solve:"
   ]
  },
  {
   "cell_type": "code",
   "execution_count": 36,
   "metadata": {
    "collapsed": false
   },
   "outputs": [
    {
     "data": {
      "text/plain": [
       "[[<matplotlib.axis.XTick at 0xb8d6940>,\n",
       "  <matplotlib.axis.XTick at 0xa534ba8>,\n",
       "  <matplotlib.axis.XTick at 0xbafc198>,\n",
       "  <matplotlib.axis.XTick at 0xb9477f0>,\n",
       "  <matplotlib.axis.XTick at 0xb8ed128>,\n",
       "  <matplotlib.axis.XTick at 0xbe15b70>,\n",
       "  <matplotlib.axis.XTick at 0xb838c18>,\n",
       "  <matplotlib.axis.XTick at 0xb8380b8>,\n",
       "  <matplotlib.axis.XTick at 0xb8f8eb8>,\n",
       "  <matplotlib.axis.XTick at 0xba61748>,\n",
       "  <matplotlib.axis.XTick at 0xba61f28>,\n",
       "  <matplotlib.axis.XTick at 0xb9429b0>]]"
      ]
     },
     "execution_count": 36,
     "metadata": {},
     "output_type": "execute_result"
    },
    {
     "data": {
      "image/png": "[encoded data removed]",
      "text/plain": [
       "<matplotlib.figure.Figure at 0xba21c88>"
      ]
     },
     "metadata": {},
     "output_type": "display_data"
    }
   ],
   "source": [
    "ax = df.plot(x='Time', y='Temperature', legend=False, rot=90)\n",
    "plt.ylabel('Temperature [$^\\circ$C]')  # making the y-axis label using LaTeX symbol syntax\n",
    "\n",
    "# try to move the xtick labels to better location by using the code at https://stackoverflow.com/questions/24190858/matplotlib-move-ticklabels-between-ticks\n",
    "import numpy as np\n",
    "locs, labels = plt.xticks()\n",
    "ax.xaxis.set(ticks=locs+17.5)"
   ]
  },
  {
   "cell_type": "code",
   "execution_count": 37,
   "metadata": {
    "collapsed": false
   },
   "outputs": [
    {
     "data": {
      "image/png": "[encoded data removed]",
      "text/plain": [
       "<matplotlib.figure.Figure at 0xb8f8668>"
      ]
     },
     "metadata": {},
     "output_type": "display_data"
    }
   ],
   "source": [
    "ax = df.plot(x='Time', y='Temperature', legend=False, rot=90)\n",
    "plt.ylabel('Temperature [$^\\circ$C]')  # making the y-axis label using LaTeX symbol syntax\n",
    "\n",
    "# Or you can change the format of the string on xaxis from https://stackoverflow.com/questions/14946371/editing-the-date-formatting-of-x-axis-tick-labels-in-matplotlib\n",
    "\n",
    "import matplotlib.dates as mdates\n",
    "myFmt = mdates.DateFormatter('%d %b %Y')\n",
    "ax.xaxis.set_major_formatter(myFmt)  # from https://stackoverflow.com/questions/28615887/how-to-move-a-ticks-label-in-matplotlib\n",
    "for tick in ax.xaxis.get_majorticklabels():\n",
    "    tick.set_horizontalalignment(\"center\")"
   ]
  },
  {
   "cell_type": "code",
   "execution_count": 38,
   "metadata": {
    "collapsed": true
   },
   "outputs": [],
   "source": [
    "# change index to the Time column\n",
    "df = df.set_index('Time')"
   ]
  },
  {
   "cell_type": "code",
   "execution_count": 39,
   "metadata": {
    "collapsed": false
   },
   "outputs": [
    {
     "data": {
      "text/html": [
       "<div>\n",
       "<table border=\"1\" class=\"dataframe\">\n",
       "  <thead>\n",
       "    <tr style=\"text-align: right;\">\n",
       "      <th></th>\n",
       "      <th>Cooling Load</th>\n",
       "      <th>Temperature</th>\n",
       "    </tr>\n",
       "    <tr>\n",
       "      <th>Time</th>\n",
       "      <th></th>\n",
       "      <th></th>\n",
       "    </tr>\n",
       "  </thead>\n",
       "  <tbody>\n",
       "    <tr>\n",
       "      <th>2015-01-01 00:00:00</th>\n",
       "      <td>0.802203</td>\n",
       "      <td>17.57697</td>\n",
       "    </tr>\n",
       "    <tr>\n",
       "      <th>2015-01-01 00:30:00</th>\n",
       "      <td>0.802203</td>\n",
       "      <td>17.57697</td>\n",
       "    </tr>\n",
       "    <tr>\n",
       "      <th>2015-01-01 01:00:00</th>\n",
       "      <td>1.895214</td>\n",
       "      <td>17.27978</td>\n",
       "    </tr>\n",
       "    <tr>\n",
       "      <th>2015-01-01 01:30:00</th>\n",
       "      <td>14.007580</td>\n",
       "      <td>17.27978</td>\n",
       "    </tr>\n",
       "    <tr>\n",
       "      <th>2015-01-01 02:00:00</th>\n",
       "      <td>1.014915</td>\n",
       "      <td>17.27978</td>\n",
       "    </tr>\n",
       "    <tr>\n",
       "      <th>2015-01-01 02:30:00</th>\n",
       "      <td>1.015470</td>\n",
       "      <td>16.98257</td>\n",
       "    </tr>\n",
       "    <tr>\n",
       "      <th>2015-01-01 03:00:00</th>\n",
       "      <td>1.647006</td>\n",
       "      <td>16.98257</td>\n",
       "    </tr>\n",
       "    <tr>\n",
       "      <th>2015-01-01 03:30:00</th>\n",
       "      <td>0.930945</td>\n",
       "      <td>16.98257</td>\n",
       "    </tr>\n",
       "    <tr>\n",
       "      <th>2015-01-01 04:00:00</th>\n",
       "      <td>0.786436</td>\n",
       "      <td>16.98257</td>\n",
       "    </tr>\n",
       "    <tr>\n",
       "      <th>2015-01-01 04:30:00</th>\n",
       "      <td>8.029107</td>\n",
       "      <td>16.98257</td>\n",
       "    </tr>\n",
       "    <tr>\n",
       "      <th>2015-01-01 05:00:00</th>\n",
       "      <td>0.828741</td>\n",
       "      <td>16.68523</td>\n",
       "    </tr>\n",
       "    <tr>\n",
       "      <th>2015-01-01 05:30:00</th>\n",
       "      <td>0.828008</td>\n",
       "      <td>16.68523</td>\n",
       "    </tr>\n",
       "    <tr>\n",
       "      <th>2015-01-01 06:00:00</th>\n",
       "      <td>0.830196</td>\n",
       "      <td>16.68523</td>\n",
       "    </tr>\n",
       "    <tr>\n",
       "      <th>2015-01-01 06:30:00</th>\n",
       "      <td>0.771979</td>\n",
       "      <td>16.68523</td>\n",
       "    </tr>\n",
       "    <tr>\n",
       "      <th>2015-01-01 07:00:00</th>\n",
       "      <td>0.781031</td>\n",
       "      <td>16.68523</td>\n",
       "    </tr>\n",
       "    <tr>\n",
       "      <th>2015-01-01 07:30:00</th>\n",
       "      <td>-138.163100</td>\n",
       "      <td>16.38815</td>\n",
       "    </tr>\n",
       "    <tr>\n",
       "      <th>2015-01-01 08:00:00</th>\n",
       "      <td>234.272000</td>\n",
       "      <td>16.38815</td>\n",
       "    </tr>\n",
       "    <tr>\n",
       "      <th>2015-01-01 08:30:00</th>\n",
       "      <td>1.422757</td>\n",
       "      <td>16.38815</td>\n",
       "    </tr>\n",
       "    <tr>\n",
       "      <th>2015-01-01 09:00:00</th>\n",
       "      <td>37.413010</td>\n",
       "      <td>16.68587</td>\n",
       "    </tr>\n",
       "    <tr>\n",
       "      <th>2015-01-01 09:30:00</th>\n",
       "      <td>-177.609500</td>\n",
       "      <td>16.98398</td>\n",
       "    </tr>\n",
       "    <tr>\n",
       "      <th>2015-01-01 10:00:00</th>\n",
       "      <td>212.855500</td>\n",
       "      <td>18.48843</td>\n",
       "    </tr>\n",
       "    <tr>\n",
       "      <th>2015-01-01 10:30:00</th>\n",
       "      <td>379.325800</td>\n",
       "      <td>19.99398</td>\n",
       "    </tr>\n",
       "    <tr>\n",
       "      <th>2015-01-01 11:00:00</th>\n",
       "      <td>164.910100</td>\n",
       "      <td>19.39741</td>\n",
       "    </tr>\n",
       "    <tr>\n",
       "      <th>2015-01-01 11:30:00</th>\n",
       "      <td>105.905700</td>\n",
       "      <td>19.09951</td>\n",
       "    </tr>\n",
       "    <tr>\n",
       "      <th>2015-01-01 12:00:00</th>\n",
       "      <td>-161.721900</td>\n",
       "      <td>18.80202</td>\n",
       "    </tr>\n",
       "    <tr>\n",
       "      <th>2015-01-01 12:30:00</th>\n",
       "      <td>378.861200</td>\n",
       "      <td>18.80202</td>\n",
       "    </tr>\n",
       "    <tr>\n",
       "      <th>2015-01-01 13:00:00</th>\n",
       "      <td>203.685800</td>\n",
       "      <td>19.09940</td>\n",
       "    </tr>\n",
       "    <tr>\n",
       "      <th>2015-01-01 13:30:00</th>\n",
       "      <td>-23.412070</td>\n",
       "      <td>19.09940</td>\n",
       "    </tr>\n",
       "    <tr>\n",
       "      <th>2015-01-01 14:00:00</th>\n",
       "      <td>-14.986560</td>\n",
       "      <td>19.09940</td>\n",
       "    </tr>\n",
       "    <tr>\n",
       "      <th>2015-01-01 14:30:00</th>\n",
       "      <td>230.698100</td>\n",
       "      <td>19.09940</td>\n",
       "    </tr>\n",
       "    <tr>\n",
       "      <th>...</th>\n",
       "      <td>...</td>\n",
       "      <td>...</td>\n",
       "    </tr>\n",
       "    <tr>\n",
       "      <th>2015-12-31 09:00:00</th>\n",
       "      <td>236.655800</td>\n",
       "      <td>17.36593</td>\n",
       "    </tr>\n",
       "    <tr>\n",
       "      <th>2015-12-31 09:30:00</th>\n",
       "      <td>257.163800</td>\n",
       "      <td>17.66302</td>\n",
       "    </tr>\n",
       "    <tr>\n",
       "      <th>2015-12-31 10:00:00</th>\n",
       "      <td>275.714500</td>\n",
       "      <td>19.46100</td>\n",
       "    </tr>\n",
       "    <tr>\n",
       "      <th>2015-12-31 10:30:00</th>\n",
       "      <td>317.969500</td>\n",
       "      <td>20.05588</td>\n",
       "    </tr>\n",
       "    <tr>\n",
       "      <th>2015-12-31 11:00:00</th>\n",
       "      <td>326.865400</td>\n",
       "      <td>20.35330</td>\n",
       "    </tr>\n",
       "    <tr>\n",
       "      <th>2015-12-31 11:30:00</th>\n",
       "      <td>345.543900</td>\n",
       "      <td>20.05586</td>\n",
       "    </tr>\n",
       "    <tr>\n",
       "      <th>2015-12-31 12:00:00</th>\n",
       "      <td>362.052600</td>\n",
       "      <td>20.05586</td>\n",
       "    </tr>\n",
       "    <tr>\n",
       "      <th>2015-12-31 12:30:00</th>\n",
       "      <td>322.999800</td>\n",
       "      <td>20.05586</td>\n",
       "    </tr>\n",
       "    <tr>\n",
       "      <th>2015-12-31 13:00:00</th>\n",
       "      <td>312.133700</td>\n",
       "      <td>20.35544</td>\n",
       "    </tr>\n",
       "    <tr>\n",
       "      <th>2015-12-31 13:30:00</th>\n",
       "      <td>301.239900</td>\n",
       "      <td>20.35544</td>\n",
       "    </tr>\n",
       "    <tr>\n",
       "      <th>2015-12-31 14:00:00</th>\n",
       "      <td>273.287600</td>\n",
       "      <td>20.35544</td>\n",
       "    </tr>\n",
       "    <tr>\n",
       "      <th>2015-12-31 14:30:00</th>\n",
       "      <td>271.123200</td>\n",
       "      <td>20.05530</td>\n",
       "    </tr>\n",
       "    <tr>\n",
       "      <th>2015-12-31 15:00:00</th>\n",
       "      <td>242.403900</td>\n",
       "      <td>19.75571</td>\n",
       "    </tr>\n",
       "    <tr>\n",
       "      <th>2015-12-31 15:30:00</th>\n",
       "      <td>262.356400</td>\n",
       "      <td>19.75571</td>\n",
       "    </tr>\n",
       "    <tr>\n",
       "      <th>2015-12-31 16:00:00</th>\n",
       "      <td>279.414900</td>\n",
       "      <td>19.75571</td>\n",
       "    </tr>\n",
       "    <tr>\n",
       "      <th>2015-12-31 16:30:00</th>\n",
       "      <td>243.730300</td>\n",
       "      <td>19.75571</td>\n",
       "    </tr>\n",
       "    <tr>\n",
       "      <th>2015-12-31 17:00:00</th>\n",
       "      <td>186.784400</td>\n",
       "      <td>19.45850</td>\n",
       "    </tr>\n",
       "    <tr>\n",
       "      <th>2015-12-31 17:30:00</th>\n",
       "      <td>207.929000</td>\n",
       "      <td>19.16116</td>\n",
       "    </tr>\n",
       "    <tr>\n",
       "      <th>2015-12-31 18:00:00</th>\n",
       "      <td>203.959900</td>\n",
       "      <td>19.16116</td>\n",
       "    </tr>\n",
       "    <tr>\n",
       "      <th>2015-12-31 18:30:00</th>\n",
       "      <td>188.108200</td>\n",
       "      <td>18.86291</td>\n",
       "    </tr>\n",
       "    <tr>\n",
       "      <th>2015-12-31 19:00:00</th>\n",
       "      <td>145.609200</td>\n",
       "      <td>18.86291</td>\n",
       "    </tr>\n",
       "    <tr>\n",
       "      <th>2015-12-31 19:30:00</th>\n",
       "      <td>194.256300</td>\n",
       "      <td>18.86291</td>\n",
       "    </tr>\n",
       "    <tr>\n",
       "      <th>2015-12-31 20:00:00</th>\n",
       "      <td>191.647000</td>\n",
       "      <td>18.86291</td>\n",
       "    </tr>\n",
       "    <tr>\n",
       "      <th>2015-12-31 20:30:00</th>\n",
       "      <td>153.158600</td>\n",
       "      <td>18.86291</td>\n",
       "    </tr>\n",
       "    <tr>\n",
       "      <th>2015-12-31 21:00:00</th>\n",
       "      <td>169.632600</td>\n",
       "      <td>18.86291</td>\n",
       "    </tr>\n",
       "    <tr>\n",
       "      <th>2015-12-31 21:30:00</th>\n",
       "      <td>189.803700</td>\n",
       "      <td>18.86291</td>\n",
       "    </tr>\n",
       "    <tr>\n",
       "      <th>2015-12-31 22:00:00</th>\n",
       "      <td>6.440963</td>\n",
       "      <td>18.86291</td>\n",
       "    </tr>\n",
       "    <tr>\n",
       "      <th>2015-12-31 22:30:00</th>\n",
       "      <td>126.565500</td>\n",
       "      <td>18.86291</td>\n",
       "    </tr>\n",
       "    <tr>\n",
       "      <th>2015-12-31 23:00:00</th>\n",
       "      <td>8.075071</td>\n",
       "      <td>18.86291</td>\n",
       "    </tr>\n",
       "    <tr>\n",
       "      <th>2015-12-31 23:30:00</th>\n",
       "      <td>7.707413</td>\n",
       "      <td>18.86291</td>\n",
       "    </tr>\n",
       "  </tbody>\n",
       "</table>\n",
       "<p>17531 rows × 2 columns</p>\n",
       "</div>"
      ],
      "text/plain": [
       "                     Cooling Load  Temperature\n",
       "Time                                          \n",
       "2015-01-01 00:00:00      0.802203     17.57697\n",
       "2015-01-01 00:30:00      0.802203     17.57697\n",
       "2015-01-01 01:00:00      1.895214     17.27978\n",
       "2015-01-01 01:30:00     14.007580     17.27978\n",
       "2015-01-01 02:00:00      1.014915     17.27978\n",
       "2015-01-01 02:30:00      1.015470     16.98257\n",
       "2015-01-01 03:00:00      1.647006     16.98257\n",
       "2015-01-01 03:30:00      0.930945     16.98257\n",
       "2015-01-01 04:00:00      0.786436     16.98257\n",
       "2015-01-01 04:30:00      8.029107     16.98257\n",
       "2015-01-01 05:00:00      0.828741     16.68523\n",
       "2015-01-01 05:30:00      0.828008     16.68523\n",
       "2015-01-01 06:00:00      0.830196     16.68523\n",
       "2015-01-01 06:30:00      0.771979     16.68523\n",
       "2015-01-01 07:00:00      0.781031     16.68523\n",
       "2015-01-01 07:30:00   -138.163100     16.38815\n",
       "2015-01-01 08:00:00    234.272000     16.38815\n",
       "2015-01-01 08:30:00      1.422757     16.38815\n",
       "2015-01-01 09:00:00     37.413010     16.68587\n",
       "2015-01-01 09:30:00   -177.609500     16.98398\n",
       "2015-01-01 10:00:00    212.855500     18.48843\n",
       "2015-01-01 10:30:00    379.325800     19.99398\n",
       "2015-01-01 11:00:00    164.910100     19.39741\n",
       "2015-01-01 11:30:00    105.905700     19.09951\n",
       "2015-01-01 12:00:00   -161.721900     18.80202\n",
       "2015-01-01 12:30:00    378.861200     18.80202\n",
       "2015-01-01 13:00:00    203.685800     19.09940\n",
       "2015-01-01 13:30:00    -23.412070     19.09940\n",
       "2015-01-01 14:00:00    -14.986560     19.09940\n",
       "2015-01-01 14:30:00    230.698100     19.09940\n",
       "...                           ...          ...\n",
       "2015-12-31 09:00:00    236.655800     17.36593\n",
       "2015-12-31 09:30:00    257.163800     17.66302\n",
       "2015-12-31 10:00:00    275.714500     19.46100\n",
       "2015-12-31 10:30:00    317.969500     20.05588\n",
       "2015-12-31 11:00:00    326.865400     20.35330\n",
       "2015-12-31 11:30:00    345.543900     20.05586\n",
       "2015-12-31 12:00:00    362.052600     20.05586\n",
       "2015-12-31 12:30:00    322.999800     20.05586\n",
       "2015-12-31 13:00:00    312.133700     20.35544\n",
       "2015-12-31 13:30:00    301.239900     20.35544\n",
       "2015-12-31 14:00:00    273.287600     20.35544\n",
       "2015-12-31 14:30:00    271.123200     20.05530\n",
       "2015-12-31 15:00:00    242.403900     19.75571\n",
       "2015-12-31 15:30:00    262.356400     19.75571\n",
       "2015-12-31 16:00:00    279.414900     19.75571\n",
       "2015-12-31 16:30:00    243.730300     19.75571\n",
       "2015-12-31 17:00:00    186.784400     19.45850\n",
       "2015-12-31 17:30:00    207.929000     19.16116\n",
       "2015-12-31 18:00:00    203.959900     19.16116\n",
       "2015-12-31 18:30:00    188.108200     18.86291\n",
       "2015-12-31 19:00:00    145.609200     18.86291\n",
       "2015-12-31 19:30:00    194.256300     18.86291\n",
       "2015-12-31 20:00:00    191.647000     18.86291\n",
       "2015-12-31 20:30:00    153.158600     18.86291\n",
       "2015-12-31 21:00:00    169.632600     18.86291\n",
       "2015-12-31 21:30:00    189.803700     18.86291\n",
       "2015-12-31 22:00:00      6.440963     18.86291\n",
       "2015-12-31 22:30:00    126.565500     18.86291\n",
       "2015-12-31 23:00:00      8.075071     18.86291\n",
       "2015-12-31 23:30:00      7.707413     18.86291\n",
       "\n",
       "[17531 rows x 2 columns]"
      ]
     },
     "execution_count": 39,
     "metadata": {},
     "output_type": "execute_result"
    }
   ],
   "source": [
    "df"
   ]
  },
  {
   "cell_type": "code",
   "execution_count": 43,
   "metadata": {
    "collapsed": false
   },
   "outputs": [
    {
     "data": {
      "text/plain": [
       "<matplotlib.axes._subplots.AxesSubplot at 0xe31cb00>"
      ]
     },
     "execution_count": 43,
     "metadata": {},
     "output_type": "execute_result"
    },
    {
     "data": {
      "image/png": "[encoded data removed]",
      "text/plain": [
       "<matplotlib.figure.Figure at 0xe31c048>"
      ]
     },
     "metadata": {},
     "output_type": "display_data"
    }
   ],
   "source": [
    "df.loc[datetime(2015, 1, 1):datetime(2015, 2, 3), :].plot(x='Temperature', y='Cooling Load', kind='scatter')"
   ]
  },
  {
   "cell_type": "code",
   "execution_count": 45,
   "metadata": {
    "collapsed": false
   },
   "outputs": [
    {
     "data": {
      "text/plain": [
       "<matplotlib.axes._subplots.AxesSubplot at 0xbdcc550>"
      ]
     },
     "execution_count": 45,
     "metadata": {},
     "output_type": "execute_result"
    },
    {
     "data": {
      "image/png": "[encoded data removed]",
      "text/plain": [
       "<matplotlib.figure.Figure at 0xbe99940>"
      ]
     },
     "metadata": {},
     "output_type": "display_data"
    }
   ],
   "source": [
    "df.loc[datetime(2015, 1, 1):datetime(2015, 2, 3), :].plot(y='Cooling Load', rot=90)"
   ]
  },
  {
   "cell_type": "code",
   "execution_count": 47,
   "metadata": {
    "collapsed": false
   },
   "outputs": [],
   "source": [
    "df.to_excel('example.xlsx')"
   ]
  },
  {
   "cell_type": "code",
   "execution_count": 51,
   "metadata": {
    "collapsed": false
   },
   "outputs": [
    {
     "data": {
      "text/plain": [
       "208.89648133830642"
      ]
     },
     "execution_count": 51,
     "metadata": {},
     "output_type": "execute_result"
    }
   ],
   "source": [
    "df.loc[datetime(2015, 3, 1):datetime(2015, 4, 1), 'Cooling Load'].mean()"
   ]
  },
  {
   "cell_type": "code",
   "execution_count": 54,
   "metadata": {
    "collapsed": false
   },
   "outputs": [
    {
     "data": {
      "text/plain": [
       "(1489, 2)"
      ]
     },
     "execution_count": 54,
     "metadata": {},
     "output_type": "execute_result"
    }
   ],
   "source": [
    "df.loc[datetime(2015, 3, 1):datetime(2015, 4, 1), :].shape"
   ]
  },
  {
   "cell_type": "code",
   "execution_count": null,
   "metadata": {
    "collapsed": true
   },
   "outputs": [],
   "source": []
  }
 ],
 "metadata": {
  "anaconda-cloud": {},
  "kernelspec": {
   "display_name": "Python [Root]",
   "language": "python",
   "name": "Python [Root]"
  },
  "language_info": {
   "codemirror_mode": {
    "name": "ipython",
    "version": 3
   },
   "file_extension": ".py",
   "mimetype": "text/x-python",
   "name": "python",
   "nbconvert_exporter": "python",
   "pygments_lexer": "ipython3",
   "version": "3.5.1"
  }
 },
 "nbformat": 4,
 "nbformat_minor": 0
}
